{
 "cells": [
  {
   "cell_type": "code",
   "execution_count": 1,
   "id": "f6b78cc8-5f0d-4df9-9ca9-e6eb6a5dcb13",
   "metadata": {},
   "outputs": [],
   "source": [
    "from collections import deque"
   ]
  },
  {
   "cell_type": "code",
   "execution_count": 2,
   "id": "608ea34f-0823-43f9-8a9a-353dadbf4d64",
   "metadata": {},
   "outputs": [],
   "source": [
    "stk = deque()"
   ]
  },
  {
   "cell_type": "code",
   "execution_count": 3,
   "id": "c270cccd-f351-48c1-9e8f-03e29a0646ae",
   "metadata": {},
   "outputs": [],
   "source": [
    "stk.append(1)\n",
    "\n",
    "stk.append(2)"
   ]
  },
  {
   "cell_type": "code",
   "execution_count": 5,
   "id": "3ea37c36-6484-4d01-b298-30d0930553e7",
   "metadata": {},
   "outputs": [
    {
     "name": "stdout",
     "output_type": "stream",
     "text": [
      "deque([1, 2])\n"
     ]
    }
   ],
   "source": [
    "print(stk)"
   ]
  },
  {
   "cell_type": "code",
   "execution_count": null,
   "id": "86309b8d-65eb-4e37-a675-b06b6e1d5c5a",
   "metadata": {},
   "outputs": [],
   "source": []
  },
  {
   "cell_type": "code",
   "execution_count": null,
   "id": "4f3323f1-8d0c-4cef-b42f-86ca98505d53",
   "metadata": {},
   "outputs": [],
   "source": []
  },
  {
   "cell_type": "code",
   "execution_count": null,
   "id": "9dbfd676-c2a9-446a-9256-33b79be93312",
   "metadata": {},
   "outputs": [],
   "source": []
  }
 ],
 "metadata": {
  "kernelspec": {
   "display_name": "Python 3 (ipykernel)",
   "language": "python",
   "name": "python3"
  },
  "language_info": {
   "codemirror_mode": {
    "name": "ipython",
    "version": 3
   },
   "file_extension": ".py",
   "mimetype": "text/x-python",
   "name": "python",
   "nbconvert_exporter": "python",
   "pygments_lexer": "ipython3",
   "version": "3.11.4"
  }
 },
 "nbformat": 4,
 "nbformat_minor": 5
}
